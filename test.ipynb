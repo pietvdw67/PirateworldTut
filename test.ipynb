{
 "cells": [
  {
   "cell_type": "code",
   "id": "initial_id",
   "metadata": {
    "collapsed": true,
    "ExecuteTime": {
     "end_time": "2025-08-18T16:35:38.377662Z",
     "start_time": "2025-08-18T16:35:38.374234Z"
    }
   },
   "source": "import os",
   "outputs": [],
   "execution_count": 1
  },
  {
   "metadata": {
    "ExecuteTime": {
     "end_time": "2025-08-18T16:37:27.251382Z",
     "start_time": "2025-08-18T16:37:27.249118Z"
    }
   },
   "cell_type": "code",
   "source": [
    "BASE_FOLDER = os.getcwd()\n",
    "levels = os.path.join(BASE_FOLDER, 'data', 'levels')\n",
    "\n"
   ],
   "id": "405d0421cd643daa",
   "outputs": [],
   "execution_count": 3
  },
  {
   "metadata": {
    "ExecuteTime": {
     "end_time": "2025-08-18T16:37:36.879463Z",
     "start_time": "2025-08-18T16:37:36.876619Z"
    }
   },
   "cell_type": "code",
   "source": "print( levels)",
   "id": "a19734acc641a28b",
   "outputs": [
    {
     "name": "stdout",
     "output_type": "stream",
     "text": [
      "D:\\DEV\\Python\\learn\\gamedev\\PirateworldTut\\data\\levels\n"
     ]
    }
   ],
   "execution_count": 5
  },
  {
   "metadata": {},
   "cell_type": "code",
   "outputs": [],
   "execution_count": null,
   "source": "",
   "id": "4269d6bfb130ca00"
  }
 ],
 "metadata": {
  "kernelspec": {
   "display_name": "Python 3",
   "language": "python",
   "name": "python3"
  },
  "language_info": {
   "codemirror_mode": {
    "name": "ipython",
    "version": 2
   },
   "file_extension": ".py",
   "mimetype": "text/x-python",
   "name": "python",
   "nbconvert_exporter": "python",
   "pygments_lexer": "ipython2",
   "version": "2.7.6"
  }
 },
 "nbformat": 4,
 "nbformat_minor": 5
}
